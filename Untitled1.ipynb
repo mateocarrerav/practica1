{
 "cells": [
  {
   "cell_type": "code",
   "execution_count": 1,
   "metadata": {},
   "outputs": [],
   "source": [
    "lunes=dict(trabajo=[\"soldar\",\"pintar\",\"ordenar\"],\n",
    "          cocinar=[\"almuerzo\",\"desayuno\",\"merienda\"],\n",
    "          comprar=[\"pan\",\"leche\",\"huevos\"],\n",
    "          dormir=[\"siesta\",\"noche\",\"mediamanana\"])"
   ]
  },
  {
   "cell_type": "code",
   "execution_count": 5,
   "metadata": {},
   "outputs": [
    {
     "name": "stdout",
     "output_type": "stream",
     "text": [
      "actividad trabajo\n",
      "tareas ['soldar', 'pintar', 'ordenar']\n",
      "actividad cocinar\n",
      "tareas ['almuerzo', 'desayuno', 'merienda']\n",
      "actividad comprar\n",
      "tareas ['pan', 'leche', 'huevos']\n",
      "actividad dormir\n",
      "tareas ['siesta', 'noche', 'mediamanana']\n"
     ]
    }
   ],
   "source": [
    "for i in lunes.keys():\n",
    "    print('actividad ' +i)\n",
    "    print ('tareas', lunes[i])"
   ]
  },
  {
   "cell_type": "code",
   "execution_count": null,
   "metadata": {},
   "outputs": [],
   "source": []
  }
 ],
 "metadata": {
  "kernelspec": {
   "display_name": "Python 3",
   "language": "python",
   "name": "python3"
  },
  "language_info": {
   "codemirror_mode": {
    "name": "ipython",
    "version": 3
   },
   "file_extension": ".py",
   "mimetype": "text/x-python",
   "name": "python",
   "nbconvert_exporter": "python",
   "pygments_lexer": "ipython3",
   "version": "3.7.6"
  }
 },
 "nbformat": 4,
 "nbformat_minor": 4
}
